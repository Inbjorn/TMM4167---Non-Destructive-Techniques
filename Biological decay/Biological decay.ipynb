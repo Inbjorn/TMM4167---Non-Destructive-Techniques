{
 "cells": [
  {
   "cell_type": "code",
   "execution_count": 1,
   "metadata": {},
   "outputs": [],
   "source": [
    "import pandas as pd\n",
    "import numpy as np\n",
    "from colorama import Fore, Back, Style"
   ]
  },
  {
   "cell_type": "code",
   "execution_count": 4,
   "metadata": {},
   "outputs": [
    {
     "name": "stdout",
     "output_type": "stream",
     "text": [
      "\u001b[34mDays with rain above 0.25mm \n",
      "and average temperature each month: \n",
      "Jan: 8, -4.068°C\n",
      "Feb: 5, -5.142°C\n",
      "Mar: 6, -4.292°C\n",
      "Apr: 13, -0.306°C\n",
      "May: 11, 3.276°C\n",
      "Jun: 14, 7.136°C\n",
      "Jul: 17, 10.163°C\n",
      "Aug: 18, 9.908°C\n",
      "Sep: 20, 6.743°C\n",
      "Oct: 21, 2.097°C\n",
      "Nov: 15, -1.907°C\n",
      "Dec: 9, -4.155°C\n",
      "\u001b[33m \n",
      "Climate Index: 12.448\n"
     ]
    }
   ],
   "source": [
    "df = pd.read_csv(\"Data.csv\", delimiter=\";\", usecols=[\"T(C)\", \"Rain (mm)\"])\n",
    "T_array = df[\"T(C)\"].to_numpy()\n",
    "Rain_array = df[\"Rain (mm)\"].to_numpy()\n",
    "\n",
    "T_array = np.array([float(value.replace(',', '.')) for value in T_array])\n",
    "Rain_array = np.array([float(value.replace(',', '.')) for value in Rain_array])\n",
    "\n",
    "months = np.array([0,753, 1425, 2168, 2888, 3632, 4352, 5049, 5840, 6560, 7280, 8144, 8768])\n",
    "\n",
    "average_array = np.zeros(12)\n",
    "\n",
    "for i in range(12):\n",
    "    start_index = months[i]\n",
    "    end_index = months[i + 1] if i < 11 else len(T_array)\n",
    "    monthly_sum = np.sum(T_array[start_index:end_index])\n",
    "    month_length = end_index - start_index\n",
    "    average_array[i] = monthly_sum / month_length\n",
    "\n",
    "daysWithRain = np.zeros(12)\n",
    "\n",
    "for i in range(12):\n",
    "    start_index = months[i]\n",
    "    end_index = months[i + 1] if i < 11 else len(Rain_array)\n",
    "    \n",
    "    # Initialize daily total for the month\n",
    "    daily_total = 0\n",
    "    days_with_rain_count = 0\n",
    "    \n",
    "    # Iterate through each hour of the month\n",
    "    for j in range(start_index, end_index):\n",
    "        daily_total += Rain_array[j]\n",
    "        \n",
    "        # If end of the day, check if total exceeds 0.25 mm\n",
    "        if (j + 1) % 24 == 0:\n",
    "            if daily_total > 0.25:\n",
    "                days_with_rain_count += 1\n",
    "            daily_total = 0  # Reset daily total for next day\n",
    "    \n",
    "    daysWithRain[i] = days_with_rain_count\n",
    "\n",
    "daysWithRain = np.array([int(value) for value in daysWithRain])\n",
    "\n",
    "monthList = ['Jan', 'Feb', 'Mar', 'Apr', 'May', 'Jun',\n",
    "              'Jul', 'Aug', 'Sep', 'Oct', 'Nov', 'Dec']\n",
    "    \n",
    "\n",
    "climateIndex = np.sum((average_array-2)*(daysWithRain-3))/17\n",
    "\n",
    "print(Fore.BLUE+ \"Days with rain above 0.25mm \\nand average temperature each month: \")\n",
    "for i in range(len(monthList)):\n",
    "    print(f\"{monthList[i]}: {daysWithRain[i]}, {average_array[i].round(3)}°C\")\n",
    "\n",
    "print(Fore.YELLOW,\"\\nClimate Index:\", climateIndex.round(3))\n"
   ]
  }
 ],
 "metadata": {
  "kernelspec": {
   "display_name": "Python 3",
   "language": "python",
   "name": "python3"
  },
  "language_info": {
   "codemirror_mode": {
    "name": "ipython",
    "version": 3
   },
   "file_extension": ".py",
   "mimetype": "text/x-python",
   "name": "python",
   "nbconvert_exporter": "python",
   "pygments_lexer": "ipython3",
   "version": "3.11.9"
  }
 },
 "nbformat": 4,
 "nbformat_minor": 2
}

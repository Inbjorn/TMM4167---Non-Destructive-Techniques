{
 "cells": [
  {
   "cell_type": "code",
   "execution_count": 14,
   "metadata": {},
   "outputs": [],
   "source": [
    "import numpy as np\n",
    "import math as m"
   ]
  },
  {
   "cell_type": "code",
   "execution_count": 19,
   "metadata": {},
   "outputs": [
    {
     "name": "stdout",
     "output_type": "stream",
     "text": [
      "[9.324565191162021, 0.8611245513149235, 0.3620222173209319]\n",
      "\n",
      "[2.4688549415433196, 0.9997010124534594, 0.5897346844175407]\n"
     ]
    }
   ],
   "source": [
    "cases = [[2,25], [22, 50], [27, 75]]\n",
    "Ea = np.array([50,100])\n",
    "R = 8.314\n",
    "def lifetime_multiplier(RH, T, Ea):\n",
    "    return ((50/RH)**1.3) * m.e**((Ea/R)*(1/(T+273.15) - 1/293))\n",
    "\n",
    "ancientTextileLRH = lifetime_multiplier(cases[0][1],cases[0][0], 50*1000)\n",
    "ancientTextileMRH = lifetime_multiplier(cases[1][1],cases[1][0], 50*1000)\n",
    "ancientTextileHRH = lifetime_multiplier(cases[2][1],cases[2][0], 50*1000)\n",
    "\n",
    "ancientPaperLRH = lifetime_multiplier(cases[0][1],cases[0][0], 100)\n",
    "ancientPaperMRH = lifetime_multiplier(cases[1][1],cases[1][0], 100)\n",
    "ancientPaperHRH = lifetime_multiplier(cases[2][1],cases[2][0], 100)\n",
    "\n",
    "ancientTextile = [ancientTextileLRH, ancientTextileMRH, ancientTextileHRH]\n",
    "ancientPaper= [ancientPaperLRH, ancientPaperMRH, ancientPaperHRH]\n",
    "\n",
    "print(ancientTextile, end=\"\\n\\n\")\n",
    "print(ancientPaper)\n",
    "\n",
    "\n"
   ]
  }
 ],
 "metadata": {
  "kernelspec": {
   "display_name": "Python 3",
   "language": "python",
   "name": "python3"
  },
  "language_info": {
   "codemirror_mode": {
    "name": "ipython",
    "version": 3
   },
   "file_extension": ".py",
   "mimetype": "text/x-python",
   "name": "python",
   "nbconvert_exporter": "python",
   "pygments_lexer": "ipython3",
   "version": "3.11.8"
  }
 },
 "nbformat": 4,
 "nbformat_minor": 2
}
